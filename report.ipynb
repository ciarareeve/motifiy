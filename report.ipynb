{
 "cells": [
  {
   "cell_type": "code",
   "execution_count": 3,
   "id": "acb70623-f140-47be-97c9-eb25adc682a7",
   "metadata": {},
   "outputs": [
    {
     "name": "stdout",
     "output_type": "stream",
     "text": [
      "Motif report generated successfully at /Users/ciarareeve/motify_new/results/report/motif_report.html\n",
      "Motif report generation complete.\n"
     ]
    }
   ],
   "source": [
    "import os\n",
    "import numpy as np\n",
    "import pandas as pd\n",
    "import matplotlib.pyplot as plt\n",
    "import logomaker\n",
    "\n",
    "pd.options.display.max_colwidth = 500\n",
    "\n",
    "def _plot_weights(array, path, figsize=(10, 3)):\n",
    "    \"\"\"Plot weights as a sequence logo and save to file.\"\"\"\n",
    "    fig = plt.figure(figsize=figsize)\n",
    "    ax = fig.add_subplot(111)\n",
    "\n",
    "    df = pd.DataFrame(array, columns=['A', 'C', 'G', 'T'])\n",
    "    df.index.name = 'pos'\n",
    "\n",
    "    crp_logo = logomaker.Logo(df, ax=ax)\n",
    "    crp_logo.style_spines(visible=False)\n",
    "    plt.ylim(min(df.sum(axis=1).min(), 0), df.sum(axis=1).max())\n",
    "\n",
    "    plt.savefig(path)\n",
    "    plt.close()\n",
    "\n",
    "def create_seqlet_logos(seqlets, output_dir, pattern_group):\n",
    "    \"\"\"Create logos for each seqlet cluster and save them to the output directory.\"\"\"\n",
    "    os.makedirs(output_dir, exist_ok=True)\n",
    "    \n",
    "    for i, seqlet in enumerate(seqlets):\n",
    "        # Compute information content (IC)\n",
    "        ic = np.sum(seqlet * np.log2(seqlet + 1e-6), axis=1)  # Pseudocount to avoid log(0)\n",
    "\n",
    "        # Generate the logo\n",
    "        logo_path = os.path.join(output_dir, f'{pattern_group}_seqlet_{i}.png')\n",
    "        _plot_weights(seqlet * ic[:, None], path=logo_path)\n",
    "\n",
    "def path_to_image_html(path):\n",
    "    return f'<img src=\"{path}\" width=\"240\">'\n",
    "\n",
    "def generate_report(attributions_file, seqlets_file, clusters_file, output_dir, img_path_suffix):\n",
    "    # Load attributions, seqlets, and clustering labels\n",
    "    if not os.path.exists(attributions_file):\n",
    "        print(f\"File not found: {attributions_file}\")\n",
    "        return\n",
    "    if not os.path.exists(seqlets_file):\n",
    "        print(f\"File not found: {seqlets_file}\")\n",
    "        return\n",
    "    if not os.path.exists(clusters_file):\n",
    "        print(f\"File not found: {clusters_file}\")\n",
    "        return\n",
    "\n",
    "    attributions = np.load(attributions_file)\n",
    "    seqlets = np.load(seqlets_file)\n",
    "    clusters = np.load(clusters_file)\n",
    "    \n",
    "    # Create output directories\n",
    "    logos_dir = os.path.join(output_dir, 'logos')\n",
    "    os.makedirs(logos_dir, exist_ok=True)\n",
    "    \n",
    "    # Create logos for each cluster\n",
    "    unique_clusters = set(clusters)\n",
    "    pattern_groups = ['cluster_' + str(c) for c in unique_clusters if c != -1]\n",
    "\n",
    "    for cluster in unique_clusters:\n",
    "        if cluster == -1:\n",
    "            continue  # Skip noise points\n",
    "        cluster_seqlets = seqlets[clusters == cluster]\n",
    "        create_seqlet_logos(cluster_seqlets, logos_dir, f'cluster_{cluster}')\n",
    "\n",
    "    # Generate report dataframe\n",
    "    results = {'cluster': [], 'num_seqlets': [], 'logo_path': []}\n",
    "    \n",
    "    for cluster in unique_clusters:\n",
    "        if cluster == -1:\n",
    "            continue  # Skip noise points\n",
    "        num_seqlets = np.sum(clusters == cluster)\n",
    "        logo_path = os.path.join('logos', f'cluster_{cluster}_seqlet_0.png')\n",
    "        \n",
    "        results['cluster'].append(f'Cluster {cluster}')\n",
    "        results['num_seqlets'].append(num_seqlets)\n",
    "        results['logo_path'].append(logo_path)\n",
    "    \n",
    "    report_df = pd.DataFrame(results)\n",
    "    \n",
    "    # Create HTML report\n",
    "    html_path = os.path.join(output_dir, 'motif_report.html')\n",
    "    report_df.to_html(html_path, escape=False, formatters={'logo_path': path_to_image_html}, index=False)\n",
    "    print(f\"Motif report generated successfully at {html_path}\")\n",
    "\n",
    "# Use the current working directory if __file__ is not defined\n",
    "if '__file__' in globals():\n",
    "    base_dir = os.path.dirname(os.path.abspath(__file__))\n",
    "else:\n",
    "    base_dir = os.getcwd()\n",
    "\n",
    "# Paths to required files\n",
    "attributions_file = os.path.join(base_dir, 'results/attributions/attributions_subset.npy')\n",
    "seqlets_file = os.path.join(base_dir, 'results/seqlets/high_attribution_seqlets_subset.npy')\n",
    "clusters_file = os.path.join(base_dir, 'results/clusters/seqlet_clusters_subset.npy')\n",
    "output_dir = os.path.join(base_dir, 'results/report')\n",
    "img_path_suffix = 'logos'  # Set relative path for HTML image links\n",
    "\n",
    "# Ensure the output directories exist\n",
    "os.makedirs(output_dir, exist_ok=True)\n",
    "os.makedirs(os.path.join(output_dir, img_path_suffix), exist_ok=True)\n",
    "\n",
    "# Generate motif report\n",
    "generate_report(attributions_file, seqlets_file, clusters_file, output_dir, img_path_suffix)\n",
    "\n",
    "print(\"Motif report generation complete.\")\n"
   ]
  },
  {
   "cell_type": "code",
   "execution_count": 6,
   "id": "ff502f93-4ccb-418a-a555-ee15c3f9a6ff",
   "metadata": {},
   "outputs": [
    {
     "name": "stdout",
     "output_type": "stream",
     "text": [
      "/Users/ciarareeve/motify_new\n"
     ]
    }
   ],
   "source": [
    "!pwd\n"
   ]
  },
  {
   "cell_type": "code",
   "execution_count": null,
   "id": "7a0a50ae-7e3d-422e-97c2-6958e9ca07e3",
   "metadata": {},
   "outputs": [],
   "source": []
  }
 ],
 "metadata": {
  "kernelspec": {
   "display_name": "Python 3 (ipykernel)",
   "language": "python",
   "name": "python3"
  },
  "language_info": {
   "codemirror_mode": {
    "name": "ipython",
    "version": 3
   },
   "file_extension": ".py",
   "mimetype": "text/x-python",
   "name": "python",
   "nbconvert_exporter": "python",
   "pygments_lexer": "ipython3",
   "version": "3.10.13"
  }
 },
 "nbformat": 4,
 "nbformat_minor": 5
}
